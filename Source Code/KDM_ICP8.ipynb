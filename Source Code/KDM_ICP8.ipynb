{
  "nbformat": 4,
  "nbformat_minor": 0,
  "metadata": {
    "colab": {
      "name": "KDM_ICP8 (1).ipynb",
      "provenance": []
    },
    "kernelspec": {
      "name": "python3",
      "display_name": "Python 3"
    }
  },
  "cells": [
    {
      "cell_type": "code",
      "metadata": {
        "colab": {
          "base_uri": "https://localhost:8080/"
        },
        "id": "oGuR5YrDGVzE",
        "outputId": "898d065e-0045-4773-80a7-7786e49ffab7"
      },
      "source": [
        "!pip install textacy\r\n",
        "import spacy\r\n",
        "import textacy"
      ],
      "execution_count": 32,
      "outputs": [
        {
          "output_type": "stream",
          "text": [
            "Requirement already satisfied: textacy in /usr/local/lib/python3.7/dist-packages (0.10.1)\n",
            "Requirement already satisfied: joblib>=0.13.0 in /usr/local/lib/python3.7/dist-packages (from textacy) (1.0.1)\n",
            "Requirement already satisfied: scipy>=0.17.0 in /usr/local/lib/python3.7/dist-packages (from textacy) (1.4.1)\n",
            "Requirement already satisfied: srsly>=0.0.5 in /usr/local/lib/python3.7/dist-packages (from textacy) (1.0.5)\n",
            "Requirement already satisfied: spacy<3.0.0,>=2.2.0 in /usr/local/lib/python3.7/dist-packages (from textacy) (2.2.4)\n",
            "Requirement already satisfied: jellyfish>=0.7.0 in /usr/local/lib/python3.7/dist-packages (from textacy) (0.8.2)\n",
            "Requirement already satisfied: cytoolz>=0.8.0 in /usr/local/lib/python3.7/dist-packages (from textacy) (0.11.0)\n",
            "Requirement already satisfied: tqdm>=4.19.6 in /usr/local/lib/python3.7/dist-packages (from textacy) (4.41.1)\n",
            "Requirement already satisfied: numpy>=1.17.0 in /usr/local/lib/python3.7/dist-packages (from textacy) (1.19.5)\n",
            "Requirement already satisfied: scikit-learn<0.24.0,>=0.19.0 in /usr/local/lib/python3.7/dist-packages (from textacy) (0.22.2.post1)\n",
            "Requirement already satisfied: pyphen>=0.9.4 in /usr/local/lib/python3.7/dist-packages (from textacy) (0.10.0)\n",
            "Requirement already satisfied: pyemd>=0.5.0 in /usr/local/lib/python3.7/dist-packages (from textacy) (0.5.1)\n",
            "Requirement already satisfied: networkx>=2.0 in /usr/local/lib/python3.7/dist-packages (from textacy) (2.5)\n",
            "Requirement already satisfied: requests>=2.10.0 in /usr/local/lib/python3.7/dist-packages (from textacy) (2.23.0)\n",
            "Requirement already satisfied: cachetools>=2.0.1 in /usr/local/lib/python3.7/dist-packages (from textacy) (4.2.1)\n",
            "Requirement already satisfied: murmurhash<1.1.0,>=0.28.0 in /usr/local/lib/python3.7/dist-packages (from spacy<3.0.0,>=2.2.0->textacy) (1.0.5)\n",
            "Requirement already satisfied: thinc==7.4.0 in /usr/local/lib/python3.7/dist-packages (from spacy<3.0.0,>=2.2.0->textacy) (7.4.0)\n",
            "Requirement already satisfied: preshed<3.1.0,>=3.0.2 in /usr/local/lib/python3.7/dist-packages (from spacy<3.0.0,>=2.2.0->textacy) (3.0.5)\n",
            "Requirement already satisfied: plac<1.2.0,>=0.9.6 in /usr/local/lib/python3.7/dist-packages (from spacy<3.0.0,>=2.2.0->textacy) (1.1.3)\n",
            "Requirement already satisfied: wasabi<1.1.0,>=0.4.0 in /usr/local/lib/python3.7/dist-packages (from spacy<3.0.0,>=2.2.0->textacy) (0.8.2)\n",
            "Requirement already satisfied: setuptools in /usr/local/lib/python3.7/dist-packages (from spacy<3.0.0,>=2.2.0->textacy) (54.0.0)\n",
            "Requirement already satisfied: catalogue<1.1.0,>=0.0.7 in /usr/local/lib/python3.7/dist-packages (from spacy<3.0.0,>=2.2.0->textacy) (1.0.0)\n",
            "Requirement already satisfied: blis<0.5.0,>=0.4.0 in /usr/local/lib/python3.7/dist-packages (from spacy<3.0.0,>=2.2.0->textacy) (0.4.1)\n",
            "Requirement already satisfied: cymem<2.1.0,>=2.0.2 in /usr/local/lib/python3.7/dist-packages (from spacy<3.0.0,>=2.2.0->textacy) (2.0.5)\n",
            "Requirement already satisfied: toolz>=0.8.0 in /usr/local/lib/python3.7/dist-packages (from cytoolz>=0.8.0->textacy) (0.11.1)\n",
            "Requirement already satisfied: decorator>=4.3.0 in /usr/local/lib/python3.7/dist-packages (from networkx>=2.0->textacy) (4.4.2)\n",
            "Requirement already satisfied: certifi>=2017.4.17 in /usr/local/lib/python3.7/dist-packages (from requests>=2.10.0->textacy) (2020.12.5)\n",
            "Requirement already satisfied: chardet<4,>=3.0.2 in /usr/local/lib/python3.7/dist-packages (from requests>=2.10.0->textacy) (3.0.4)\n",
            "Requirement already satisfied: idna<3,>=2.5 in /usr/local/lib/python3.7/dist-packages (from requests>=2.10.0->textacy) (2.10)\n",
            "Requirement already satisfied: urllib3!=1.25.0,!=1.25.1,<1.26,>=1.21.1 in /usr/local/lib/python3.7/dist-packages (from requests>=2.10.0->textacy) (1.24.3)\n",
            "Requirement already satisfied: importlib-metadata>=0.20; python_version < \"3.8\" in /usr/local/lib/python3.7/dist-packages (from catalogue<1.1.0,>=0.0.7->spacy<3.0.0,>=2.2.0->textacy) (3.7.2)\n",
            "Requirement already satisfied: typing-extensions>=3.6.4; python_version < \"3.8\" in /usr/local/lib/python3.7/dist-packages (from importlib-metadata>=0.20; python_version < \"3.8\"->catalogue<1.1.0,>=0.0.7->spacy<3.0.0,>=2.2.0->textacy) (3.7.4.3)\n",
            "Requirement already satisfied: zipp>=0.5 in /usr/local/lib/python3.7/dist-packages (from importlib-metadata>=0.20; python_version < \"3.8\"->catalogue<1.1.0,>=0.0.7->spacy<3.0.0,>=2.2.0->textacy) (3.4.1)\n"
          ],
          "name": "stdout"
        }
      ]
    },
    {
      "cell_type": "code",
      "metadata": {
        "colab": {
          "base_uri": "https://localhost:8080/"
        },
        "id": "8FsMsyX_SYPD",
        "outputId": "63c6c95a-c2cd-487f-b5a8-ba33ebd5cb3e"
      },
      "source": [
        "from google.colab import drive\r\n",
        "drive.mount('/content/drive')"
      ],
      "execution_count": 33,
      "outputs": [
        {
          "output_type": "stream",
          "text": [
            "Drive already mounted at /content/drive; to attempt to forcibly remount, call drive.mount(\"/content/drive\", force_remount=True).\n"
          ],
          "name": "stdout"
        }
      ]
    },
    {
      "cell_type": "code",
      "metadata": {
        "colab": {
          "base_uri": "https://localhost:8080/"
        },
        "id": "zu7OyGqJ8sR7",
        "outputId": "e3129fd6-f2d8-4194-a7f9-9d008628f9d8"
      },
      "source": [
        "nlp = spacy.load('en_core_web_sm')\r\n",
        "\r\n",
        "File1 = open ('/content/drive/MyDrive/Colab Notebooks/Triplet.txt', 'r')\r\n",
        "\r\n",
        "doc = nlp(File1.read())\r\n",
        "print(doc)\r\n",
        "File1.close()"
      ],
      "execution_count": 34,
      "outputs": [
        {
          "output_type": "stream",
          "text": [
            "Machine learning (ML) is the study of computer algorithms that improve automatically through experience and by the use of data. It is seen as a part of artificial intelligence. Machine learning algorithms build a model based on sample data, known as \"training data\", in order to make predictions or decisions without being explicitly programmed to do so. Machine learning algorithms are used in a wide variety of applications, such as email filtering and computer vision, where it is difficult or unfeasible to develop conventional algorithms to perform the needed tasks. C# (pronounced see sharp, like the musical note C♯, but written with the number sign) b) is a general-purpose, multi-paradigm programming language encompassing static typing, strong typing, lexically scoped, imperative, declarative, functional, generic, object-oriented (class-based), and component-oriented programming disciplines. During the development of the .NET Framework, the class libraries were originally written using a managed code compiler system called \"Simple Managed C\".\n"
          ],
          "name": "stdout"
        }
      ]
    },
    {
      "cell_type": "code",
      "metadata": {
        "colab": {
          "base_uri": "https://localhost:8080/"
        },
        "id": "V2Dl2NVe83oH",
        "outputId": "c605c551-433f-4479-d824-48a383aee516"
      },
      "source": [
        "for i in doc:\r\n",
        "  print(i.text, i.pos_, i.dep_)"
      ],
      "execution_count": 35,
      "outputs": [
        {
          "output_type": "stream",
          "text": [
            "Machine NOUN compound\n",
            "learning NOUN nsubj\n",
            "( PUNCT punct\n",
            "ML PROPN appos\n",
            ") PUNCT punct\n",
            "is AUX ROOT\n",
            "the DET det\n",
            "study NOUN attr\n",
            "of ADP prep\n",
            "computer NOUN compound\n",
            "algorithms NOUN pobj\n",
            "that DET nsubj\n",
            "improve VERB relcl\n",
            "automatically ADV advmod\n",
            "through ADP prep\n",
            "experience NOUN pobj\n",
            "and CCONJ cc\n",
            "by ADP conj\n",
            "the DET det\n",
            "use NOUN pobj\n",
            "of ADP prep\n",
            "data NOUN pobj\n",
            ". PUNCT punct\n",
            "It PRON nsubjpass\n",
            "is AUX auxpass\n",
            "seen VERB ROOT\n",
            "as SCONJ prep\n",
            "a DET det\n",
            "part NOUN pobj\n",
            "of ADP prep\n",
            "artificial ADJ amod\n",
            "intelligence NOUN pobj\n",
            ". PUNCT punct\n",
            "Machine NOUN compound\n",
            "learning VERB compound\n",
            "algorithms NOUN nsubj\n",
            "build VERB ROOT\n",
            "a DET det\n",
            "model NOUN dobj\n",
            "based VERB acl\n",
            "on ADP prep\n",
            "sample NOUN compound\n",
            "data NOUN pobj\n",
            ", PUNCT punct\n",
            "known VERB acl\n",
            "as SCONJ prep\n",
            "\" PUNCT punct\n",
            "training NOUN compound\n",
            "data NOUN pobj\n",
            "\" PUNCT punct\n",
            ", PUNCT punct\n",
            "in ADP prep\n",
            "order NOUN pobj\n",
            "to PART aux\n",
            "make VERB acl\n",
            "predictions NOUN dobj\n",
            "or CCONJ cc\n",
            "decisions NOUN conj\n",
            "without ADP prep\n",
            "being AUX auxpass\n",
            "explicitly ADV advmod\n",
            "programmed VERB pcomp\n",
            "to PART aux\n",
            "do AUX xcomp\n",
            "so ADV advmod\n",
            ". PUNCT punct\n",
            "Machine NOUN compound\n",
            "learning NOUN compound\n",
            "algorithms NOUN nsubjpass\n",
            "are AUX auxpass\n",
            "used VERB ROOT\n",
            "in ADP prep\n",
            "a DET det\n",
            "wide ADJ amod\n",
            "variety NOUN pobj\n",
            "of ADP prep\n",
            "applications NOUN pobj\n",
            ", PUNCT punct\n",
            "such ADJ amod\n",
            "as SCONJ prep\n",
            "email NOUN compound\n",
            "filtering NOUN pobj\n",
            "and CCONJ cc\n",
            "computer NOUN compound\n",
            "vision NOUN conj\n",
            ", PUNCT punct\n",
            "where ADV advmod\n",
            "it PRON nsubj\n",
            "is AUX relcl\n",
            "difficult ADJ acomp\n",
            "or CCONJ cc\n",
            "unfeasible ADJ conj\n",
            "to PART aux\n",
            "develop VERB xcomp\n",
            "conventional ADJ amod\n",
            "algorithms NOUN dobj\n",
            "to PART aux\n",
            "perform VERB advcl\n",
            "the DET det\n",
            "needed VERB amod\n",
            "tasks NOUN dobj\n",
            ". PUNCT punct\n",
            "C PROPN compound\n",
            "# NOUN nsubj\n",
            "( PUNCT punct\n",
            "pronounced VERB acl\n",
            "see VERB ROOT\n",
            "sharp ADJ acomp\n",
            ", PUNCT punct\n",
            "like SCONJ prep\n",
            "the DET det\n",
            "musical ADJ amod\n",
            "note NOUN compound\n",
            "C♯ PROPN pobj\n",
            ", PUNCT punct\n",
            "but CCONJ cc\n",
            "written VERB csubj\n",
            "with ADP prep\n",
            "the DET det\n",
            "number NOUN compound\n",
            "sign NOUN pobj\n",
            ") PUNCT punct\n",
            "b X appos\n",
            ") PUNCT punct\n",
            "is AUX conj\n",
            "a DET det\n",
            "general ADJ amod\n",
            "- PUNCT punct\n",
            "purpose NOUN nmod\n",
            ", PUNCT punct\n",
            "multi ADJ dep\n",
            "- ADJ dep\n",
            "paradigm ADJ amod\n",
            "programming NOUN compound\n",
            "language NOUN attr\n",
            "encompassing VERB acl\n",
            "static ADJ amod\n",
            "typing NOUN dobj\n",
            ", PUNCT punct\n",
            "strong ADJ amod\n",
            "typing NOUN conj\n",
            ", PUNCT punct\n",
            "lexically ADV advmod\n",
            "scoped VERB conj\n",
            ", PUNCT punct\n",
            "imperative ADJ amod\n",
            ", PUNCT punct\n",
            "declarative ADJ amod\n",
            ", PUNCT punct\n",
            "functional ADJ amod\n",
            ", PUNCT punct\n",
            "generic ADJ conj\n",
            ", PUNCT punct\n",
            "object NOUN npadvmod\n",
            "- PUNCT punct\n",
            "oriented VERB amod\n",
            "( PUNCT punct\n",
            "class NOUN npadvmod\n",
            "- PUNCT punct\n",
            "based VERB conj\n",
            ") PUNCT punct\n",
            ", PUNCT punct\n",
            "and CCONJ cc\n",
            "component NOUN npadvmod\n",
            "- PUNCT punct\n",
            "oriented VERB amod\n",
            "programming NOUN compound\n",
            "disciplines NOUN conj\n",
            ". PUNCT punct\n",
            "During ADP prep\n",
            "the DET det\n",
            "development NOUN pobj\n",
            "of ADP prep\n",
            "the DET det\n",
            ".NET PUNCT compound\n",
            "Framework PROPN pobj\n",
            ", PUNCT punct\n",
            "the DET det\n",
            "class NOUN compound\n",
            "libraries NOUN nsubjpass\n",
            "were AUX auxpass\n",
            "originally ADV advmod\n",
            "written VERB ROOT\n",
            "using VERB xcomp\n",
            "a DET det\n",
            "managed VERB amod\n",
            "code NOUN compound\n",
            "compiler NOUN compound\n",
            "system NOUN dobj\n",
            "called VERB acl\n",
            "\" PUNCT punct\n",
            "Simple ADJ compound\n",
            "Managed VERB compound\n",
            "C NOUN oprd\n",
            "\" PUNCT punct\n",
            ". PUNCT punct\n"
          ],
          "name": "stdout"
        }
      ]
    },
    {
      "cell_type": "code",
      "metadata": {
        "id": "P05PiWub-o6H"
      },
      "source": [
        "tuples_list = []\r\n",
        "#extracting triplet using textacy library\r\n",
        "tuples = textacy.extract.subject_verb_object_triples(doc)\r\n",
        "tuples_to_list = list(tuples)\r\n",
        "if tuples_to_list != []:\r\n",
        "  tuples_list.append(tuples_to_list)"
      ],
      "execution_count": 36,
      "outputs": []
    },
    {
      "cell_type": "code",
      "metadata": {
        "colab": {
          "base_uri": "https://localhost:8080/"
        },
        "id": "COeebLTA-vBu",
        "outputId": "25963fde-c80d-4d2e-8d3c-055df1dc3ab1"
      },
      "source": [
        "print(tuples_list)"
      ],
      "execution_count": 37,
      "outputs": [
        {
          "output_type": "stream",
          "text": [
            "[[(learning algorithms, build, model), (class libraries, written, using)]]\n"
          ],
          "name": "stdout"
        }
      ]
    }
  ]
}