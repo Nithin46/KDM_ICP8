{
  "nbformat": 4,
  "nbformat_minor": 0,
  "metadata": {
    "colab": {
      "name": "KDM_ICP8 (1).ipynb",
      "provenance": [],
      "include_colab_link": true
    },
    "kernelspec": {
      "name": "python3",
      "display_name": "Python 3"
    }
  },
  "cells": [
    {
      "cell_type": "markdown",
      "metadata": {
        "id": "view-in-github",
        "colab_type": "text"
      },
      "source": [
        "<a href=\"https://colab.research.google.com/github/Nithin46/KDM_ICP8/blob/main/KDM_ICP8.ipynb\" target=\"_parent\"><img src=\"https://colab.research.google.com/assets/colab-badge.svg\" alt=\"Open In Colab\"/></a>"
      ]
    },
    {
      "cell_type": "code",
      "metadata": {
        "colab": {
          "base_uri": "https://localhost:8080/"
        },
        "id": "oGuR5YrDGVzE",
        "outputId": "58317fd3-37dc-451f-f1ed-8d4438e39d57"
      },
      "source": [
        "!pip install textacy\r\n",
        "import spacy\r\n",
        "import textacy"
      ],
      "execution_count": null,
      "outputs": [
        {
          "output_type": "stream",
          "text": [
            "Collecting textacy\n",
            "\u001b[?25l  Downloading https://files.pythonhosted.org/packages/65/99/054efc5dea92c84a850639c490541de6cba29bc148debc3c73848c5e64c2/textacy-0.10.1-py3-none-any.whl (183kB)\n",
            "\u001b[K     |████████████████████████████████| 184kB 4.2MB/s \n",
            "\u001b[?25hRequirement already satisfied: cachetools>=2.0.1 in /usr/local/lib/python3.7/dist-packages (from textacy) (4.2.1)\n",
            "Requirement already satisfied: pyemd>=0.5.0 in /usr/local/lib/python3.7/dist-packages (from textacy) (0.5.1)\n",
            "Requirement already satisfied: requests>=2.10.0 in /usr/local/lib/python3.7/dist-packages (from textacy) (2.23.0)\n",
            "Requirement already satisfied: scipy>=0.17.0 in /usr/local/lib/python3.7/dist-packages (from textacy) (1.4.1)\n",
            "Requirement already satisfied: scikit-learn<0.24.0,>=0.19.0 in /usr/local/lib/python3.7/dist-packages (from textacy) (0.22.2.post1)\n",
            "Collecting pyphen>=0.9.4\n",
            "\u001b[?25l  Downloading https://files.pythonhosted.org/packages/7c/5a/5bc036e01389bc6a6667a932bac3e388de6e7fa5777a6ff50e652f60ec79/Pyphen-0.10.0-py3-none-any.whl (1.9MB)\n",
            "\u001b[K     |████████████████████████████████| 1.9MB 6.3MB/s \n",
            "\u001b[?25hRequirement already satisfied: networkx>=2.0 in /usr/local/lib/python3.7/dist-packages (from textacy) (2.5)\n",
            "Requirement already satisfied: spacy<3.0.0,>=2.2.0 in /usr/local/lib/python3.7/dist-packages (from textacy) (2.2.4)\n",
            "Requirement already satisfied: tqdm>=4.19.6 in /usr/local/lib/python3.7/dist-packages (from textacy) (4.41.1)\n",
            "Requirement already satisfied: numpy>=1.17.0 in /usr/local/lib/python3.7/dist-packages (from textacy) (1.19.5)\n",
            "Requirement already satisfied: joblib>=0.13.0 in /usr/local/lib/python3.7/dist-packages (from textacy) (1.0.1)\n",
            "Collecting jellyfish>=0.7.0\n",
            "\u001b[?25l  Downloading https://files.pythonhosted.org/packages/30/a6/4d039bc827a102f62ce7a7910713e38fdfd7c7a40aa39c72fb14938a1473/jellyfish-0.8.2-cp37-cp37m-manylinux2014_x86_64.whl (90kB)\n",
            "\u001b[K     |████████████████████████████████| 92kB 8.3MB/s \n",
            "\u001b[?25hRequirement already satisfied: srsly>=0.0.5 in /usr/local/lib/python3.7/dist-packages (from textacy) (1.0.5)\n",
            "Collecting cytoolz>=0.8.0\n",
            "\u001b[?25l  Downloading https://files.pythonhosted.org/packages/58/67/1c60da8ba831bfefedb64c78b9f6820bdf58972797c95644ee3191daf27a/cytoolz-0.11.0.tar.gz (477kB)\n",
            "\u001b[K     |████████████████████████████████| 481kB 17.8MB/s \n",
            "\u001b[?25hRequirement already satisfied: chardet<4,>=3.0.2 in /usr/local/lib/python3.7/dist-packages (from requests>=2.10.0->textacy) (3.0.4)\n",
            "Requirement already satisfied: idna<3,>=2.5 in /usr/local/lib/python3.7/dist-packages (from requests>=2.10.0->textacy) (2.10)\n",
            "Requirement already satisfied: urllib3!=1.25.0,!=1.25.1,<1.26,>=1.21.1 in /usr/local/lib/python3.7/dist-packages (from requests>=2.10.0->textacy) (1.24.3)\n",
            "Requirement already satisfied: certifi>=2017.4.17 in /usr/local/lib/python3.7/dist-packages (from requests>=2.10.0->textacy) (2020.12.5)\n",
            "Requirement already satisfied: decorator>=4.3.0 in /usr/local/lib/python3.7/dist-packages (from networkx>=2.0->textacy) (4.4.2)\n",
            "Requirement already satisfied: thinc==7.4.0 in /usr/local/lib/python3.7/dist-packages (from spacy<3.0.0,>=2.2.0->textacy) (7.4.0)\n",
            "Requirement already satisfied: murmurhash<1.1.0,>=0.28.0 in /usr/local/lib/python3.7/dist-packages (from spacy<3.0.0,>=2.2.0->textacy) (1.0.5)\n",
            "Requirement already satisfied: setuptools in /usr/local/lib/python3.7/dist-packages (from spacy<3.0.0,>=2.2.0->textacy) (54.0.0)\n",
            "Requirement already satisfied: cymem<2.1.0,>=2.0.2 in /usr/local/lib/python3.7/dist-packages (from spacy<3.0.0,>=2.2.0->textacy) (2.0.5)\n",
            "Requirement already satisfied: plac<1.2.0,>=0.9.6 in /usr/local/lib/python3.7/dist-packages (from spacy<3.0.0,>=2.2.0->textacy) (1.1.3)\n",
            "Requirement already satisfied: blis<0.5.0,>=0.4.0 in /usr/local/lib/python3.7/dist-packages (from spacy<3.0.0,>=2.2.0->textacy) (0.4.1)\n",
            "Requirement already satisfied: preshed<3.1.0,>=3.0.2 in /usr/local/lib/python3.7/dist-packages (from spacy<3.0.0,>=2.2.0->textacy) (3.0.5)\n",
            "Requirement already satisfied: wasabi<1.1.0,>=0.4.0 in /usr/local/lib/python3.7/dist-packages (from spacy<3.0.0,>=2.2.0->textacy) (0.8.2)\n",
            "Requirement already satisfied: catalogue<1.1.0,>=0.0.7 in /usr/local/lib/python3.7/dist-packages (from spacy<3.0.0,>=2.2.0->textacy) (1.0.0)\n",
            "Requirement already satisfied: toolz>=0.8.0 in /usr/local/lib/python3.7/dist-packages (from cytoolz>=0.8.0->textacy) (0.11.1)\n",
            "Requirement already satisfied: importlib-metadata>=0.20; python_version < \"3.8\" in /usr/local/lib/python3.7/dist-packages (from catalogue<1.1.0,>=0.0.7->spacy<3.0.0,>=2.2.0->textacy) (3.7.2)\n",
            "Requirement already satisfied: typing-extensions>=3.6.4; python_version < \"3.8\" in /usr/local/lib/python3.7/dist-packages (from importlib-metadata>=0.20; python_version < \"3.8\"->catalogue<1.1.0,>=0.0.7->spacy<3.0.0,>=2.2.0->textacy) (3.7.4.3)\n",
            "Requirement already satisfied: zipp>=0.5 in /usr/local/lib/python3.7/dist-packages (from importlib-metadata>=0.20; python_version < \"3.8\"->catalogue<1.1.0,>=0.0.7->spacy<3.0.0,>=2.2.0->textacy) (3.4.1)\n",
            "Building wheels for collected packages: cytoolz\n",
            "  Building wheel for cytoolz (setup.py) ... \u001b[?25l\u001b[?25hdone\n",
            "  Created wheel for cytoolz: filename=cytoolz-0.11.0-cp37-cp37m-linux_x86_64.whl size=1223269 sha256=ff558d45ea47a71ce44d6392d4ef84e199291b60b3e525418f139a61285b3363\n",
            "  Stored in directory: /root/.cache/pip/wheels/a1/32/3c/9c9926b510647cacdde744b2c7acdf1ccd5896fbb7f8d5df0c\n",
            "Successfully built cytoolz\n",
            "Installing collected packages: pyphen, jellyfish, cytoolz, textacy\n",
            "Successfully installed cytoolz-0.11.0 jellyfish-0.8.2 pyphen-0.10.0 textacy-0.10.1\n"
          ],
          "name": "stdout"
        }
      ]
    },
    {
      "cell_type": "code",
      "metadata": {
        "colab": {
          "base_uri": "https://localhost:8080/"
        },
        "id": "zu7OyGqJ8sR7",
        "outputId": "f353c46f-321a-4dd2-e9d0-8d8b5658daee"
      },
      "source": [
        "nlp = spacy.load('en_core_web_sm')\r\n",
        "\r\n",
        "File1 = open ('/content/drive/MyDrive/Colab Notebooks/Triplet.txt', 'r')\r\n",
        "#Doc1 = File1.read()\r\n",
        "#File2 = open (\"/content/drive/MyDrive/Colab Notebooks/input_file.txt\", \"r+\")\r\n",
        "#Doc2 = File2.read()\r\n",
        "\r\n",
        "doc = nlp(File1.read())\r\n",
        "print(doc)\r\n",
        "File1.close()"
      ],
      "execution_count": 28,
      "outputs": [
        {
          "output_type": "stream",
          "text": [
            "Machine learning (ML) is the study of computer algorithms that improve automatically through experience and by the use of data. It is seen as a part of artificial intelligence. Machine learning algorithms build a model based on sample data, known as \"training data\", in order to make predictions or decisions without being explicitly programmed to do so. Machine learning algorithms are used in a wide variety of applications, such as email filtering and computer vision, where it is difficult or unfeasible to develop conventional algorithms to perform the needed tasks. C# (pronounced see sharp, like the musical note C♯, but written with the number sign) b) is a general-purpose, multi-paradigm programming language encompassing static typing, strong typing, lexically scoped, imperative, declarative, functional, generic, object-oriented (class-based), and component-oriented programming disciplines. During the development of the .NET Framework, the class libraries were originally written using a managed code compiler system called \"Simple Managed C\".\n"
          ],
          "name": "stdout"
        }
      ]
    },
    {
      "cell_type": "code",
      "metadata": {
        "colab": {
          "base_uri": "https://localhost:8080/"
        },
        "id": "V2Dl2NVe83oH",
        "outputId": "0d81f594-0278-4cde-c919-1f80ccd88667"
      },
      "source": [
        "for i in doc:\r\n",
        "  print(i.text, i.pos_, i.dep_)"
      ],
      "execution_count": 29,
      "outputs": [
        {
          "output_type": "stream",
          "text": [
            "Machine NOUN compound\n",
            "learning NOUN nsubj\n",
            "( PUNCT punct\n",
            "ML PROPN appos\n",
            ") PUNCT punct\n",
            "is AUX ROOT\n",
            "the DET det\n",
            "study NOUN attr\n",
            "of ADP prep\n",
            "computer NOUN compound\n",
            "algorithms NOUN pobj\n",
            "that DET nsubj\n",
            "improve VERB relcl\n",
            "automatically ADV advmod\n",
            "through ADP prep\n",
            "experience NOUN pobj\n",
            "and CCONJ cc\n",
            "by ADP conj\n",
            "the DET det\n",
            "use NOUN pobj\n",
            "of ADP prep\n",
            "data NOUN pobj\n",
            ". PUNCT punct\n",
            "It PRON nsubjpass\n",
            "is AUX auxpass\n",
            "seen VERB ROOT\n",
            "as SCONJ prep\n",
            "a DET det\n",
            "part NOUN pobj\n",
            "of ADP prep\n",
            "artificial ADJ amod\n",
            "intelligence NOUN pobj\n",
            ". PUNCT punct\n",
            "Machine NOUN compound\n",
            "learning VERB compound\n",
            "algorithms NOUN nsubj\n",
            "build VERB ROOT\n",
            "a DET det\n",
            "model NOUN dobj\n",
            "based VERB acl\n",
            "on ADP prep\n",
            "sample NOUN compound\n",
            "data NOUN pobj\n",
            ", PUNCT punct\n",
            "known VERB acl\n",
            "as SCONJ prep\n",
            "\" PUNCT punct\n",
            "training NOUN compound\n",
            "data NOUN pobj\n",
            "\" PUNCT punct\n",
            ", PUNCT punct\n",
            "in ADP prep\n",
            "order NOUN pobj\n",
            "to PART aux\n",
            "make VERB acl\n",
            "predictions NOUN dobj\n",
            "or CCONJ cc\n",
            "decisions NOUN conj\n",
            "without ADP prep\n",
            "being AUX auxpass\n",
            "explicitly ADV advmod\n",
            "programmed VERB pcomp\n",
            "to PART aux\n",
            "do AUX xcomp\n",
            "so ADV advmod\n",
            ". PUNCT punct\n",
            "Machine NOUN compound\n",
            "learning NOUN compound\n",
            "algorithms NOUN nsubjpass\n",
            "are AUX auxpass\n",
            "used VERB ROOT\n",
            "in ADP prep\n",
            "a DET det\n",
            "wide ADJ amod\n",
            "variety NOUN pobj\n",
            "of ADP prep\n",
            "applications NOUN pobj\n",
            ", PUNCT punct\n",
            "such ADJ amod\n",
            "as SCONJ prep\n",
            "email NOUN compound\n",
            "filtering NOUN pobj\n",
            "and CCONJ cc\n",
            "computer NOUN compound\n",
            "vision NOUN conj\n",
            ", PUNCT punct\n",
            "where ADV advmod\n",
            "it PRON nsubj\n",
            "is AUX relcl\n",
            "difficult ADJ acomp\n",
            "or CCONJ cc\n",
            "unfeasible ADJ conj\n",
            "to PART aux\n",
            "develop VERB xcomp\n",
            "conventional ADJ amod\n",
            "algorithms NOUN dobj\n",
            "to PART aux\n",
            "perform VERB advcl\n",
            "the DET det\n",
            "needed VERB amod\n",
            "tasks NOUN dobj\n",
            ". PUNCT punct\n",
            "C PROPN compound\n",
            "# NOUN nsubj\n",
            "( PUNCT punct\n",
            "pronounced VERB acl\n",
            "see VERB ROOT\n",
            "sharp ADJ acomp\n",
            ", PUNCT punct\n",
            "like SCONJ prep\n",
            "the DET det\n",
            "musical ADJ amod\n",
            "note NOUN compound\n",
            "C♯ PROPN pobj\n",
            ", PUNCT punct\n",
            "but CCONJ cc\n",
            "written VERB csubj\n",
            "with ADP prep\n",
            "the DET det\n",
            "number NOUN compound\n",
            "sign NOUN pobj\n",
            ") PUNCT punct\n",
            "b X appos\n",
            ") PUNCT punct\n",
            "is AUX conj\n",
            "a DET det\n",
            "general ADJ amod\n",
            "- PUNCT punct\n",
            "purpose NOUN nmod\n",
            ", PUNCT punct\n",
            "multi ADJ dep\n",
            "- ADJ dep\n",
            "paradigm ADJ amod\n",
            "programming NOUN compound\n",
            "language NOUN attr\n",
            "encompassing VERB acl\n",
            "static ADJ amod\n",
            "typing NOUN dobj\n",
            ", PUNCT punct\n",
            "strong ADJ amod\n",
            "typing NOUN conj\n",
            ", PUNCT punct\n",
            "lexically ADV advmod\n",
            "scoped VERB conj\n",
            ", PUNCT punct\n",
            "imperative ADJ amod\n",
            ", PUNCT punct\n",
            "declarative ADJ amod\n",
            ", PUNCT punct\n",
            "functional ADJ amod\n",
            ", PUNCT punct\n",
            "generic ADJ conj\n",
            ", PUNCT punct\n",
            "object NOUN npadvmod\n",
            "- PUNCT punct\n",
            "oriented VERB amod\n",
            "( PUNCT punct\n",
            "class NOUN npadvmod\n",
            "- PUNCT punct\n",
            "based VERB conj\n",
            ") PUNCT punct\n",
            ", PUNCT punct\n",
            "and CCONJ cc\n",
            "component NOUN npadvmod\n",
            "- PUNCT punct\n",
            "oriented VERB amod\n",
            "programming NOUN compound\n",
            "disciplines NOUN conj\n",
            ". PUNCT punct\n",
            "During ADP prep\n",
            "the DET det\n",
            "development NOUN pobj\n",
            "of ADP prep\n",
            "the DET det\n",
            ".NET PUNCT compound\n",
            "Framework PROPN pobj\n",
            ", PUNCT punct\n",
            "the DET det\n",
            "class NOUN compound\n",
            "libraries NOUN nsubjpass\n",
            "were AUX auxpass\n",
            "originally ADV advmod\n",
            "written VERB ROOT\n",
            "using VERB xcomp\n",
            "a DET det\n",
            "managed VERB amod\n",
            "code NOUN compound\n",
            "compiler NOUN compound\n",
            "system NOUN dobj\n",
            "called VERB acl\n",
            "\" PUNCT punct\n",
            "Simple ADJ compound\n",
            "Managed VERB compound\n",
            "C NOUN oprd\n",
            "\" PUNCT punct\n",
            ". PUNCT punct\n"
          ],
          "name": "stdout"
        }
      ]
    },
    {
      "cell_type": "code",
      "metadata": {
        "id": "P05PiWub-o6H"
      },
      "source": [
        "tuples_list = []\r\n",
        "#extracting triplet using textacy library\r\n",
        "tuples = textacy.extract.subject_verb_object_triples(doc)\r\n",
        "tuples_to_list = list(tuples)\r\n",
        "if tuples_to_list != []:\r\n",
        "  tuples_list.append(tuples_to_list)"
      ],
      "execution_count": 30,
      "outputs": []
    },
    {
      "cell_type": "code",
      "metadata": {
        "colab": {
          "base_uri": "https://localhost:8080/"
        },
        "id": "COeebLTA-vBu",
        "outputId": "34ec9ef5-4fc1-4d1d-ac20-5144940fd96f"
      },
      "source": [
        "print(tuples_list)"
      ],
      "execution_count": 31,
      "outputs": [
        {
          "output_type": "stream",
          "text": [
            "[[(learning algorithms, build, model), (class libraries, written, using)]]\n"
          ],
          "name": "stdout"
        }
      ]
    },
    {
      "cell_type": "code",
      "metadata": {
        "colab": {
          "base_uri": "https://localhost:8080/"
        },
        "id": "lZqAKOZT73_F",
        "outputId": "5c00fa9f-db95-469d-9efd-56975a54eb26"
      },
      "source": [
        "from google.colab import drive\n",
        "drive.mount('/content/drive')"
      ],
      "execution_count": 1,
      "outputs": [
        {
          "output_type": "stream",
          "text": [
            "Mounted at /content/drive\n"
          ],
          "name": "stdout"
        }
      ]
    }
  ]
}